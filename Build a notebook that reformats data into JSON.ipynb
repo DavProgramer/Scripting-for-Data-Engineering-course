{
 "cells": [
  {
   "cell_type": "code",
   "execution_count": 35,
   "id": "267c3472",
   "metadata": {},
   "outputs": [],
   "source": [
    "import pandas as pd\n",
    "import json\n",
    "\n",
    "# first I´m going to import the .csv file # \n",
    "df = pd.read_csv(\"wine-ratings-small.csv\")\n"
   ]
  },
  {
   "cell_type": "code",
   "execution_count": 51,
   "id": "afaf2867",
   "metadata": {},
   "outputs": [],
   "source": [
    "#Then create a filtered dataframe with the following parameters: white wine, with a rating of 92 to 95 and in the region of Napa Valley#\n",
    "filetered_df =df[(df['variety'] ==  'White Wine') & (df['rating'] > 92) & (df['rating'] < 95) & (df['region'] == 'Napa Valley, California' )]\n"
   ]
  },
  {
   "cell_type": "code",
   "execution_count": 52,
   "id": "dee7fcf0",
   "metadata": {},
   "outputs": [
    {
     "data": {
      "text/html": [
       "<div><div id=a4e8bec5-b03c-43dd-a2d4-403f43f62fd2 style=\"display:none; background-color:#9D6CFF; color:white; width:200px; height:30px; padding-left:5px; border-radius:4px; flex-direction:row; justify-content:space-around; align-items:center;\" onmouseover=\"this.style.backgroundColor='#BA9BF8'\" onmouseout=\"this.style.backgroundColor='#9D6CFF'\" onclick=\"window.commands?.execute('create-mitosheet-from-dataframe-output');\">See Full Dataframe in Mito</div> <script> if (window.commands.hasCommand('create-mitosheet-from-dataframe-output')) document.getElementById('a4e8bec5-b03c-43dd-a2d4-403f43f62fd2').style.display = 'flex' </script> <table border=\"1\" class=\"dataframe\">\n",
       "  <thead>\n",
       "    <tr style=\"text-align: right;\">\n",
       "      <th></th>\n",
       "      <th>Unnamed: 0</th>\n",
       "      <th>name</th>\n",
       "      <th>grape</th>\n",
       "      <th>region</th>\n",
       "      <th>variety</th>\n",
       "      <th>rating</th>\n",
       "      <th>notes</th>\n",
       "    </tr>\n",
       "  </thead>\n",
       "  <tbody>\n",
       "    <tr>\n",
       "      <th>686</th>\n",
       "      <td>686</td>\n",
       "      <td>Levendi Sweeney Ranch Chardonnay 2010</td>\n",
       "      <td>NaN</td>\n",
       "      <td>Napa Valley, California</td>\n",
       "      <td>White Wine</td>\n",
       "      <td>93.0</td>\n",
       "      <td>Beautifully ripe apple with a hint of caramel and oak spice, filled in with lemon chiffon notes. Caramelized apple and lemon vanilla cream flavors on the palate, with the texture gracefully balanced between a rich center and a crisp finish.</td>\n",
       "    </tr>\n",
       "    <tr>\n",
       "      <th>764</th>\n",
       "      <td>764</td>\n",
       "      <td>Lewis Cellars Reserve Chardonnay 2008</td>\n",
       "      <td>NaN</td>\n",
       "      <td>Napa Valley, California</td>\n",
       "      <td>White Wine</td>\n",
       "      <td>93.0</td>\n",
       "      <td>Bottled unfined and unfiltered in December last year, our 2008 Reserve Chardonnay shows fantastic focus, complexity and richness. There is great breadth and allure in the nose of crushed blossoms and stone, lime zest, hazelnut and pear; but the palate takes center stage. Like a French kiss, the wine is sumptuous and silky-rich in texture with creamy minerality and endlessly intriguing notes of bread crust and caramel. The palate retains great focus and structure throughout, as it leads to a long, luxurious finish.</td>\n",
       "    </tr>\n",
       "    <tr>\n",
       "      <th>766</th>\n",
       "      <td>766</td>\n",
       "      <td>Lewis Cellars Reserve Chardonnay 2018</td>\n",
       "      <td>NaN</td>\n",
       "      <td>Napa Valley, California</td>\n",
       "      <td>White Wine</td>\n",
       "      <td>93.0</td>\n",
       "      <td>From the long growing season of 2018, this Napa Reserve Chardonnay has super showy aromatics, deliciously complex flavors and alluring texture that can’t be captured in words. Opening with white flower blossoms, green pear, lime zest and crushed stone mineral the wine is fragrant and long-limbed. Profoundly rich and silky texture is underpinned with structural detail and a stunningly long tail.</td>\n",
       "    </tr>\n",
       "    <tr>\n",
       "      <th>767</th>\n",
       "      <td>767</td>\n",
       "      <td>Lewis Cellars Reserve Chardonnay 2017</td>\n",
       "      <td>NaN</td>\n",
       "      <td>Napa Valley, California</td>\n",
       "      <td>White Wine</td>\n",
       "      <td>93.0</td>\n",
       "      <td>Think of our 2017 Reserve Chardonnay as a Rolls Royce Wraith – offering a sumptuous interior with serious performance. A plethora of heady aromas alight from the glass with Anjou pear, warm brioche, sweet mineral spice and gardenia blossom. Lush yet lively with great depth and gauzy texture the wine shows impeccable build quality and attention to detail with a miles long finish.</td>\n",
       "    </tr>\n",
       "  </tbody>\n",
       "</table></div>"
      ],
      "text/plain": [
       "     Unnamed: 0                                   name  grape  \\\n",
       "686         686  Levendi Sweeney Ranch Chardonnay 2010    NaN   \n",
       "764         764  Lewis Cellars Reserve Chardonnay 2008    NaN   \n",
       "766         766  Lewis Cellars Reserve Chardonnay 2018    NaN   \n",
       "767         767  Lewis Cellars Reserve Chardonnay 2017    NaN   \n",
       "\n",
       "                      region     variety  rating  \\\n",
       "686  Napa Valley, California  White Wine    93.0   \n",
       "764  Napa Valley, California  White Wine    93.0   \n",
       "766  Napa Valley, California  White Wine    93.0   \n",
       "767  Napa Valley, California  White Wine    93.0   \n",
       "\n",
       "                                                 notes  \n",
       "686  Beautifully ripe apple with a hint of caramel ...  \n",
       "764  Bottled unfined and unfiltered in December las...  \n",
       "766  From the long growing season of 2018, this Nap...  \n",
       "767  Think of our 2017 Reserve Chardonnay as a Roll...  "
      ]
     },
     "execution_count": 52,
     "metadata": {},
     "output_type": "execute_result"
    }
   ],
   "source": [
    "# Now lets check it #\n",
    "filetered_df"
   ]
  },
  {
   "cell_type": "code",
   "execution_count": 53,
   "id": "85f63b8f",
   "metadata": {},
   "outputs": [],
   "source": [
    "# Finally we are going to create a json file #\n",
    "json_file = filetered_df.to_json(orient='index',indent=4) \n",
    "with open('my_data.json', 'w') as f:\n",
    "    f.write(json_file)"
   ]
  },
  {
   "cell_type": "code",
   "execution_count": null,
   "id": "f8facc13",
   "metadata": {},
   "outputs": [],
   "source": []
  }
 ],
 "metadata": {
  "kernelspec": {
   "display_name": "Python 3 (ipykernel)",
   "language": "python",
   "name": "python3"
  },
  "language_info": {
   "codemirror_mode": {
    "name": "ipython",
    "version": 3
   },
   "file_extension": ".py",
   "mimetype": "text/x-python",
   "name": "python",
   "nbconvert_exporter": "python",
   "pygments_lexer": "ipython3",
   "version": "3.9.7"
  }
 },
 "nbformat": 4,
 "nbformat_minor": 5
}
